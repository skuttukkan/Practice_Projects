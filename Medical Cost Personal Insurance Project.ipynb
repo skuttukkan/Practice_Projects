{
 "cells": [
  {
   "cell_type": "markdown",
   "id": "fbf4ab82",
   "metadata": {},
   "source": [
    "### Medical Cost Personal Insurance Project\n",
    "Project Description\n",
    "Health insurance is a type of insurance that covers medical expenses that arise due to an illness. These expenses could be related to hospitalisation costs, cost of medicines or doctor consultation fees. The main purpose of medical insurance is to receive the best medical care without any strain on your finances. Health insurance plans offer protection against high medical costs. It covers hospitalization expenses, day care procedures, domiciliary expenses, and ambulance charges, besides many others. Based on certain input features such as age , bmi,,no of dependents ,smoker ,region  medical insurance is calculated .\n",
    "Columns                                            \n",
    "age: age of primary beneficiary\n",
    "sex: insurance contractor gender, female, male\n",
    "bmi: Body mass index, providing an understanding of body, weights that are relatively high or low relative to height, objective index of body weight (kg / m ^ 2) using the ratio of height to weight, ideally 18.5 to 24.9.\n",
    "children: Number of children covered by health insurance / Number of dependents\n",
    "smoker: Smoking\n",
    "region: the beneficiary's residential area in the US, northeast, southeast, southwest, northwest.\n",
    "charges: Individual medical costs billed by health insurance\n",
    "\n",
    "\n",
    "Predict : Can you accurately predict insurance costs?\n",
    "\n",
    "\n",
    "Dataset Link-\n",
    "https://github.com/dsrscientist/dataset4\n",
    "https://github.com/dsrscientist/dataset4/blob/main/medical_cost_insurance.csv\n"
   ]
  },
  {
   "cell_type": "code",
   "execution_count": 1,
   "id": "5717bb61",
   "metadata": {},
   "outputs": [
    {
     "name": "stdout",
     "output_type": "stream",
     "text": [
      "   age     sex     bmi  children smoker     region      charges\n",
      "0   19  female  27.900         0    yes  southwest  16884.92400\n",
      "1   18    male  33.770         1     no  southeast   1725.55230\n",
      "2   28    male  33.000         3     no  southeast   4449.46200\n",
      "3   33    male  22.705         0     no  northwest  21984.47061\n",
      "4   32    male  28.880         0     no  northwest   3866.85520\n"
     ]
    }
   ],
   "source": [
    "import pandas as pd\n",
    "\n",
    "# Load the dataset from the provided URL\n",
    "url = \"https://raw.githubusercontent.com/dsrscientist/dataset4/main/medical_cost_insurance.csv\"\n",
    "data = pd.read_csv(url)\n",
    "\n",
    "# Display the first few rows of the dataset to get an overview\n",
    "print(data.head())\n"
   ]
  },
  {
   "cell_type": "code",
   "execution_count": 5,
   "id": "6bc6821a",
   "metadata": {},
   "outputs": [
    {
     "name": "stdout",
     "output_type": "stream",
     "text": [
      "        age       bmi  children  sex_male  smoker_yes  region_northwest  \\\n",
      "0 -1.438764 -0.453320 -0.908614       0.0         1.0               0.0   \n",
      "1 -1.509965  0.509621 -0.078767       1.0         0.0               0.0   \n",
      "2 -0.797954  0.383307  1.580926       1.0         0.0               0.0   \n",
      "3 -0.441948 -1.305531 -0.908614       1.0         0.0               1.0   \n",
      "4 -0.513149 -0.292556 -0.908614       1.0         0.0               1.0   \n",
      "\n",
      "   region_southeast  region_southwest  \n",
      "0               0.0               1.0  \n",
      "1               1.0               0.0  \n",
      "2               1.0               0.0  \n",
      "3               0.0               0.0  \n",
      "4               0.0               0.0  \n"
     ]
    },
    {
     "name": "stderr",
     "output_type": "stream",
     "text": [
      "/var/folders/zw/zn7l3qn9205frr7dngvck9_40000gn/T/ipykernel_88774/1334091874.py:5: FutureWarning: Dropping of nuisance columns in DataFrame reductions (with 'numeric_only=None') is deprecated; in a future version this will raise TypeError.  Select only valid columns before calling the reduction.\n",
      "  data.fillna(data.mean(), inplace=True)\n",
      "/Users/mac/opt/anaconda3/lib/python3.9/site-packages/sklearn/utils/deprecation.py:87: FutureWarning: Function get_feature_names is deprecated; get_feature_names is deprecated in 1.0 and will be removed in 1.2. Please use get_feature_names_out instead.\n",
      "  warnings.warn(msg, category=FutureWarning)\n"
     ]
    }
   ],
   "source": [
    "from sklearn.model_selection import train_test_split\n",
    "from sklearn.preprocessing import OneHotEncoder, StandardScaler\n",
    "\n",
    "# Handling Missing Values (example: fill missing values with mean)\n",
    "data.fillna(data.mean(), inplace=True)\n",
    "\n",
    "# Encoding Categorical Variables\n",
    "categorical_columns = ['sex', 'smoker', 'region']\n",
    "encoder = OneHotEncoder(drop='first')\n",
    "encoded_features = encoder.fit_transform(data[categorical_columns]).toarray()\n",
    "\n",
    "# Feature Scaling\n",
    "scaler = StandardScaler()\n",
    "numerical_columns = ['age', 'bmi', 'children']\n",
    "scaled_features = scaler.fit_transform(data[numerical_columns])\n",
    "\n",
    "# Combine encoded categorical features and scaled numerical features\n",
    "preprocessed_data = pd.DataFrame(\n",
    "    data=scaled_features,\n",
    "    columns=numerical_columns,\n",
    ").join(pd.DataFrame(data=encoded_features, columns=encoder.get_feature_names(categorical_columns)))\n",
    "\n",
    "# Splitting Data\n",
    "X = preprocessed_data  # Include 'charges' column\n",
    "y = data['charges']\n",
    "X_train, X_test, y_train, y_test = train_test_split(X, y, test_size=0.2, random_state=42)\n",
    "\n",
    "# Display the preprocessed data\n",
    "print(preprocessed_data.head())\n"
   ]
  },
  {
   "cell_type": "code",
   "execution_count": 6,
   "id": "697e19f4",
   "metadata": {},
   "outputs": [
    {
     "name": "stdout",
     "output_type": "stream",
     "text": [
      "Mean Squared Error: 33596915.851361476\n",
      "R-squared: 0.7835929767120722\n"
     ]
    }
   ],
   "source": [
    "from sklearn.linear_model import LinearRegression\n",
    "from sklearn.metrics import mean_squared_error, r2_score\n",
    "\n",
    "# Create a Linear Regression model\n",
    "model = LinearRegression()\n",
    "\n",
    "# Train the model on the training data\n",
    "model.fit(X_train, y_train)\n",
    "\n",
    "# Make predictions on the test data\n",
    "y_pred = model.predict(X_test)\n",
    "\n",
    "# Calculate evaluation metrics\n",
    "mse = mean_squared_error(y_test, y_pred)\n",
    "r2 = r2_score(y_test, y_pred)\n",
    "\n",
    "# Display evaluation results\n",
    "print(\"Mean Squared Error:\", mse)\n",
    "print(\"R-squared:\", r2)\n"
   ]
  },
  {
   "cell_type": "code",
   "execution_count": 7,
   "id": "955baf56",
   "metadata": {},
   "outputs": [
    {
     "name": "stdout",
     "output_type": "stream",
     "text": [
      "Best Hyperparameters: {'max_depth': 10, 'min_samples_leaf': 4, 'min_samples_split': 10, 'n_estimators': 200}\n",
      "Random Forest Mean Squared Error: 19084132.43349689\n",
      "Random Forest R-squared: 0.8770738269477704\n"
     ]
    }
   ],
   "source": [
    "from sklearn.ensemble import RandomForestRegressor\n",
    "from sklearn.model_selection import GridSearchCV\n",
    "\n",
    "# Create a Random Forest Regressor model\n",
    "rf_model = RandomForestRegressor(random_state=42)\n",
    "\n",
    "# Define hyperparameter grid\n",
    "param_grid = {\n",
    "    'n_estimators': [100, 200, 300],\n",
    "    'max_depth': [None, 10, 20],\n",
    "    'min_samples_split': [2, 5, 10],\n",
    "    'min_samples_leaf': [1, 2, 4]\n",
    "}\n",
    "\n",
    "# Perform GridSearchCV\n",
    "grid_search = GridSearchCV(estimator=rf_model, param_grid=param_grid, cv=5, scoring='neg_mean_squared_error', n_jobs=-1)\n",
    "grid_search.fit(X_train, y_train)\n",
    "\n",
    "# Get best parameters and best estimator\n",
    "best_params = grid_search.best_params_\n",
    "best_rf_model = grid_search.best_estimator_\n",
    "\n",
    "# Make predictions using the best model\n",
    "y_pred_rf = best_rf_model.predict(X_test)\n",
    "\n",
    "# Calculate evaluation metrics for the best model\n",
    "mse_rf = mean_squared_error(y_test, y_pred_rf)\n",
    "r2_rf = r2_score(y_test, y_pred_rf)\n",
    "\n",
    "# Display results\n",
    "print(\"Best Hyperparameters:\", best_params)\n",
    "print(\"Random Forest Mean Squared Error:\", mse_rf)\n",
    "print(\"Random Forest R-squared:\", r2_rf)\n"
   ]
  },
  {
   "cell_type": "code",
   "execution_count": null,
   "id": "d4202518",
   "metadata": {},
   "outputs": [],
   "source": []
  }
 ],
 "metadata": {
  "kernelspec": {
   "display_name": "Python 3 (ipykernel)",
   "language": "python",
   "name": "python3"
  },
  "language_info": {
   "codemirror_mode": {
    "name": "ipython",
    "version": 3
   },
   "file_extension": ".py",
   "mimetype": "text/x-python",
   "name": "python",
   "nbconvert_exporter": "python",
   "pygments_lexer": "ipython3",
   "version": "3.9.13"
  }
 },
 "nbformat": 4,
 "nbformat_minor": 5
}
